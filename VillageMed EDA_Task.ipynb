{
  "cells": [
    {
      "cell_type": "code",
      "execution_count": null,
      "id": "f03cba54-4084-41af-9397-a58f4b5d1e74",
      "metadata": {
        "id": "f03cba54-4084-41af-9397-a58f4b5d1e74"
      },
      "outputs": [],
      "source": [
        "import pandas as pd\n",
        "import numpy as np"
      ]
    },
    {
      "cell_type": "code",
      "execution_count": null,
      "id": "d26cfd6d-0880-4050-a04b-ac65f9510a0b",
      "metadata": {
        "id": "d26cfd6d-0880-4050-a04b-ac65f9510a0b",
        "colab": {
          "base_uri": "https://localhost:8080/",
          "height": 356
        },
        "outputId": "7d4e58f9-de71-458e-b19b-4a25b1b5d6a2"
      },
      "outputs": [
        {
          "output_type": "error",
          "ename": "FileNotFoundError",
          "evalue": "[Errno 2] No such file or directory: 'C:/Users/hp/Desktop/data 1.csv'",
          "traceback": [
            "\u001b[0;31m---------------------------------------------------------------------------\u001b[0m",
            "\u001b[0;31mFileNotFoundError\u001b[0m                         Traceback (most recent call last)",
            "\u001b[0;32m/tmp/ipython-input-1539033713.py\u001b[0m in \u001b[0;36m<cell line: 0>\u001b[0;34m()\u001b[0m\n\u001b[1;32m      2\u001b[0m \u001b[0;31m# This dataset, named df2 contains medical error data from three Eastern African Hospitals\u001b[0m\u001b[0;34m\u001b[0m\u001b[0;34m\u001b[0m\u001b[0m\n\u001b[1;32m      3\u001b[0m \u001b[0;34m\u001b[0m\u001b[0m\n\u001b[0;32m----> 4\u001b[0;31m \u001b[0mdf1\u001b[0m \u001b[0;34m=\u001b[0m \u001b[0mpd\u001b[0m\u001b[0;34m.\u001b[0m\u001b[0mread_csv\u001b[0m\u001b[0;34m(\u001b[0m\u001b[0;34m\"C:/Users/hp/Desktop/data 1.csv\"\u001b[0m\u001b[0;34m)\u001b[0m\u001b[0;34m\u001b[0m\u001b[0;34m\u001b[0m\u001b[0m\n\u001b[0m\u001b[1;32m      5\u001b[0m \u001b[0mdf2\u001b[0m \u001b[0;34m=\u001b[0m \u001b[0mpd\u001b[0m\u001b[0;34m.\u001b[0m\u001b[0mread_csv\u001b[0m\u001b[0;34m(\u001b[0m\u001b[0;34m\"C:/Users/hp/Desktop/data 2.csv\"\u001b[0m\u001b[0;34m)\u001b[0m\u001b[0;34m\u001b[0m\u001b[0;34m\u001b[0m\u001b[0m\n",
            "\u001b[0;32m/usr/local/lib/python3.12/dist-packages/pandas/io/parsers/readers.py\u001b[0m in \u001b[0;36mread_csv\u001b[0;34m(filepath_or_buffer, sep, delimiter, header, names, index_col, usecols, dtype, engine, converters, true_values, false_values, skipinitialspace, skiprows, skipfooter, nrows, na_values, keep_default_na, na_filter, verbose, skip_blank_lines, parse_dates, infer_datetime_format, keep_date_col, date_parser, date_format, dayfirst, cache_dates, iterator, chunksize, compression, thousands, decimal, lineterminator, quotechar, quoting, doublequote, escapechar, comment, encoding, encoding_errors, dialect, on_bad_lines, delim_whitespace, low_memory, memory_map, float_precision, storage_options, dtype_backend)\u001b[0m\n\u001b[1;32m   1024\u001b[0m     \u001b[0mkwds\u001b[0m\u001b[0;34m.\u001b[0m\u001b[0mupdate\u001b[0m\u001b[0;34m(\u001b[0m\u001b[0mkwds_defaults\u001b[0m\u001b[0;34m)\u001b[0m\u001b[0;34m\u001b[0m\u001b[0;34m\u001b[0m\u001b[0m\n\u001b[1;32m   1025\u001b[0m \u001b[0;34m\u001b[0m\u001b[0m\n\u001b[0;32m-> 1026\u001b[0;31m     \u001b[0;32mreturn\u001b[0m \u001b[0m_read\u001b[0m\u001b[0;34m(\u001b[0m\u001b[0mfilepath_or_buffer\u001b[0m\u001b[0;34m,\u001b[0m \u001b[0mkwds\u001b[0m\u001b[0;34m)\u001b[0m\u001b[0;34m\u001b[0m\u001b[0;34m\u001b[0m\u001b[0m\n\u001b[0m\u001b[1;32m   1027\u001b[0m \u001b[0;34m\u001b[0m\u001b[0m\n\u001b[1;32m   1028\u001b[0m \u001b[0;34m\u001b[0m\u001b[0m\n",
            "\u001b[0;32m/usr/local/lib/python3.12/dist-packages/pandas/io/parsers/readers.py\u001b[0m in \u001b[0;36m_read\u001b[0;34m(filepath_or_buffer, kwds)\u001b[0m\n\u001b[1;32m    618\u001b[0m \u001b[0;34m\u001b[0m\u001b[0m\n\u001b[1;32m    619\u001b[0m     \u001b[0;31m# Create the parser.\u001b[0m\u001b[0;34m\u001b[0m\u001b[0;34m\u001b[0m\u001b[0m\n\u001b[0;32m--> 620\u001b[0;31m     \u001b[0mparser\u001b[0m \u001b[0;34m=\u001b[0m \u001b[0mTextFileReader\u001b[0m\u001b[0;34m(\u001b[0m\u001b[0mfilepath_or_buffer\u001b[0m\u001b[0;34m,\u001b[0m \u001b[0;34m**\u001b[0m\u001b[0mkwds\u001b[0m\u001b[0;34m)\u001b[0m\u001b[0;34m\u001b[0m\u001b[0;34m\u001b[0m\u001b[0m\n\u001b[0m\u001b[1;32m    621\u001b[0m \u001b[0;34m\u001b[0m\u001b[0m\n\u001b[1;32m    622\u001b[0m     \u001b[0;32mif\u001b[0m \u001b[0mchunksize\u001b[0m \u001b[0;32mor\u001b[0m \u001b[0miterator\u001b[0m\u001b[0;34m:\u001b[0m\u001b[0;34m\u001b[0m\u001b[0;34m\u001b[0m\u001b[0m\n",
            "\u001b[0;32m/usr/local/lib/python3.12/dist-packages/pandas/io/parsers/readers.py\u001b[0m in \u001b[0;36m__init__\u001b[0;34m(self, f, engine, **kwds)\u001b[0m\n\u001b[1;32m   1618\u001b[0m \u001b[0;34m\u001b[0m\u001b[0m\n\u001b[1;32m   1619\u001b[0m         \u001b[0mself\u001b[0m\u001b[0;34m.\u001b[0m\u001b[0mhandles\u001b[0m\u001b[0;34m:\u001b[0m \u001b[0mIOHandles\u001b[0m \u001b[0;34m|\u001b[0m \u001b[0;32mNone\u001b[0m \u001b[0;34m=\u001b[0m \u001b[0;32mNone\u001b[0m\u001b[0;34m\u001b[0m\u001b[0;34m\u001b[0m\u001b[0m\n\u001b[0;32m-> 1620\u001b[0;31m         \u001b[0mself\u001b[0m\u001b[0;34m.\u001b[0m\u001b[0m_engine\u001b[0m \u001b[0;34m=\u001b[0m \u001b[0mself\u001b[0m\u001b[0;34m.\u001b[0m\u001b[0m_make_engine\u001b[0m\u001b[0;34m(\u001b[0m\u001b[0mf\u001b[0m\u001b[0;34m,\u001b[0m \u001b[0mself\u001b[0m\u001b[0;34m.\u001b[0m\u001b[0mengine\u001b[0m\u001b[0;34m)\u001b[0m\u001b[0;34m\u001b[0m\u001b[0;34m\u001b[0m\u001b[0m\n\u001b[0m\u001b[1;32m   1621\u001b[0m \u001b[0;34m\u001b[0m\u001b[0m\n\u001b[1;32m   1622\u001b[0m     \u001b[0;32mdef\u001b[0m \u001b[0mclose\u001b[0m\u001b[0;34m(\u001b[0m\u001b[0mself\u001b[0m\u001b[0;34m)\u001b[0m \u001b[0;34m->\u001b[0m \u001b[0;32mNone\u001b[0m\u001b[0;34m:\u001b[0m\u001b[0;34m\u001b[0m\u001b[0;34m\u001b[0m\u001b[0m\n",
            "\u001b[0;32m/usr/local/lib/python3.12/dist-packages/pandas/io/parsers/readers.py\u001b[0m in \u001b[0;36m_make_engine\u001b[0;34m(self, f, engine)\u001b[0m\n\u001b[1;32m   1878\u001b[0m                 \u001b[0;32mif\u001b[0m \u001b[0;34m\"b\"\u001b[0m \u001b[0;32mnot\u001b[0m \u001b[0;32min\u001b[0m \u001b[0mmode\u001b[0m\u001b[0;34m:\u001b[0m\u001b[0;34m\u001b[0m\u001b[0;34m\u001b[0m\u001b[0m\n\u001b[1;32m   1879\u001b[0m                     \u001b[0mmode\u001b[0m \u001b[0;34m+=\u001b[0m \u001b[0;34m\"b\"\u001b[0m\u001b[0;34m\u001b[0m\u001b[0;34m\u001b[0m\u001b[0m\n\u001b[0;32m-> 1880\u001b[0;31m             self.handles = get_handle(\n\u001b[0m\u001b[1;32m   1881\u001b[0m                 \u001b[0mf\u001b[0m\u001b[0;34m,\u001b[0m\u001b[0;34m\u001b[0m\u001b[0;34m\u001b[0m\u001b[0m\n\u001b[1;32m   1882\u001b[0m                 \u001b[0mmode\u001b[0m\u001b[0;34m,\u001b[0m\u001b[0;34m\u001b[0m\u001b[0;34m\u001b[0m\u001b[0m\n",
            "\u001b[0;32m/usr/local/lib/python3.12/dist-packages/pandas/io/common.py\u001b[0m in \u001b[0;36mget_handle\u001b[0;34m(path_or_buf, mode, encoding, compression, memory_map, is_text, errors, storage_options)\u001b[0m\n\u001b[1;32m    871\u001b[0m         \u001b[0;32mif\u001b[0m \u001b[0mioargs\u001b[0m\u001b[0;34m.\u001b[0m\u001b[0mencoding\u001b[0m \u001b[0;32mand\u001b[0m \u001b[0;34m\"b\"\u001b[0m \u001b[0;32mnot\u001b[0m \u001b[0;32min\u001b[0m \u001b[0mioargs\u001b[0m\u001b[0;34m.\u001b[0m\u001b[0mmode\u001b[0m\u001b[0;34m:\u001b[0m\u001b[0;34m\u001b[0m\u001b[0;34m\u001b[0m\u001b[0m\n\u001b[1;32m    872\u001b[0m             \u001b[0;31m# Encoding\u001b[0m\u001b[0;34m\u001b[0m\u001b[0;34m\u001b[0m\u001b[0m\n\u001b[0;32m--> 873\u001b[0;31m             handle = open(\n\u001b[0m\u001b[1;32m    874\u001b[0m                 \u001b[0mhandle\u001b[0m\u001b[0;34m,\u001b[0m\u001b[0;34m\u001b[0m\u001b[0;34m\u001b[0m\u001b[0m\n\u001b[1;32m    875\u001b[0m                 \u001b[0mioargs\u001b[0m\u001b[0;34m.\u001b[0m\u001b[0mmode\u001b[0m\u001b[0;34m,\u001b[0m\u001b[0;34m\u001b[0m\u001b[0;34m\u001b[0m\u001b[0m\n",
            "\u001b[0;31mFileNotFoundError\u001b[0m: [Errno 2] No such file or directory: 'C:/Users/hp/Desktop/data 1.csv'"
          ]
        }
      ],
      "source": [
        "#This dataset, named df1 contains medical error data from  Nigerian hospitals\n",
        "# This dataset, named df2 contains medical error data from three Eastern African Hospitals\n",
        "\n",
        "df1 = pd.read_csv(\"C:/Users/hp/Desktop/data 1.csv\")\n",
        "df2 = pd.read_csv(\"C:/Users/hp/Desktop/data 2.csv\")"
      ]
    },
    {
      "cell_type": "markdown",
      "id": "3ce3177e-8579-4536-b4e8-d7687744f044",
      "metadata": {
        "id": "3ce3177e-8579-4536-b4e8-d7687744f044"
      },
      "source": [
        "**2. Data Cleaning Notebook**"
      ]
    },
    {
      "cell_type": "code",
      "execution_count": null,
      "id": "84e36558-9b3c-4376-8444-8088ef2a0a28",
      "metadata": {
        "id": "84e36558-9b3c-4376-8444-8088ef2a0a28",
        "colab": {
          "base_uri": "https://localhost:8080/",
          "height": 158
        },
        "outputId": "b0192672-2cb4-4463-82f0-c93ad5c69a64"
      },
      "outputs": [
        {
          "output_type": "error",
          "ename": "NameError",
          "evalue": "name 'df1' is not defined",
          "traceback": [
            "\u001b[0;31m---------------------------------------------------------------------------\u001b[0m",
            "\u001b[0;31mNameError\u001b[0m                                 Traceback (most recent call last)",
            "\u001b[0;32m/tmp/ipython-input-625638332.py\u001b[0m in \u001b[0;36m<cell line: 0>\u001b[0;34m()\u001b[0m\n\u001b[1;32m      1\u001b[0m \u001b[0;31m#Data Preprocessing: both data need to have the same column called \"Region\"\u001b[0m\u001b[0;34m\u001b[0m\u001b[0;34m\u001b[0m\u001b[0m\n\u001b[0;32m----> 2\u001b[0;31m \u001b[0mdf1\u001b[0m\u001b[0;34m[\u001b[0m\u001b[0;34m\"Region\"\u001b[0m\u001b[0;34m]\u001b[0m \u001b[0;34m=\u001b[0m \u001b[0;34m\"West Africa\"\u001b[0m\u001b[0;34m\u001b[0m\u001b[0;34m\u001b[0m\u001b[0m\n\u001b[0m",
            "\u001b[0;31mNameError\u001b[0m: name 'df1' is not defined"
          ]
        }
      ],
      "source": [
        "#Data Preprocessing: both data need to have the same column called \"Region\"\n",
        "df1[\"Region\"] = \"West Africa\""
      ]
    },
    {
      "cell_type": "code",
      "execution_count": null,
      "id": "59395743-54a4-4096-b196-cac673acd4ad",
      "metadata": {
        "id": "59395743-54a4-4096-b196-cac673acd4ad"
      },
      "outputs": [],
      "source": [
        "df2[\"Region\"] = \"East Africa\""
      ]
    },
    {
      "cell_type": "code",
      "execution_count": null,
      "id": "f22a193e-f4ad-4a3d-9b2d-fcb63b1611b2",
      "metadata": {
        "id": "f22a193e-f4ad-4a3d-9b2d-fcb63b1611b2"
      },
      "outputs": [],
      "source": [
        "# Combine them into one dataframe\n",
        "df = pd.concat([df1, df2], ignore_index=True)\n"
      ]
    },
    {
      "cell_type": "code",
      "execution_count": null,
      "id": "2d8bc57f-d205-46fa-9fd7-7d039695a4e0",
      "metadata": {
        "id": "2d8bc57f-d205-46fa-9fd7-7d039695a4e0"
      },
      "outputs": [],
      "source": [
        "df.head()"
      ]
    },
    {
      "cell_type": "code",
      "execution_count": null,
      "id": "29594874-e4fd-4781-a08c-c4bbc43e2259",
      "metadata": {
        "id": "29594874-e4fd-4781-a08c-c4bbc43e2259"
      },
      "outputs": [],
      "source": [
        "#Data Cleaning: Column titles must be properly aligned to remove trailing spaces\n",
        "\n",
        "df.columns = df.columns.str.strip().str.title()"
      ]
    },
    {
      "cell_type": "code",
      "execution_count": null,
      "id": "94c99f83-a1bc-46f5-92de-9c1da800304e",
      "metadata": {
        "id": "94c99f83-a1bc-46f5-92de-9c1da800304e"
      },
      "outputs": [],
      "source": [
        "df.head(10)"
      ]
    },
    {
      "cell_type": "code",
      "execution_count": null,
      "id": "9cfbe06e-63c7-4a31-8023-3dfe9be1c361",
      "metadata": {
        "id": "9cfbe06e-63c7-4a31-8023-3dfe9be1c361"
      },
      "outputs": [],
      "source": [
        "#checking for missing data/values\n",
        "df.isnull()"
      ]
    },
    {
      "cell_type": "code",
      "execution_count": null,
      "id": "872d472f-a1aa-4284-96e3-05535b606f2e",
      "metadata": {
        "id": "872d472f-a1aa-4284-96e3-05535b606f2e"
      },
      "outputs": [],
      "source": [
        "#checking for duplicates\n",
        "df.duplicated().any()"
      ]
    },
    {
      "cell_type": "code",
      "execution_count": null,
      "id": "7a97d1bb-fa87-406b-9da9-f3c82b3e6e91",
      "metadata": {
        "id": "7a97d1bb-fa87-406b-9da9-f3c82b3e6e91"
      },
      "outputs": [],
      "source": [
        "df.info()"
      ]
    },
    {
      "cell_type": "code",
      "execution_count": null,
      "id": "a9a443fd-9eb0-4226-b038-4c3cb46ebe81",
      "metadata": {
        "id": "a9a443fd-9eb0-4226-b038-4c3cb46ebe81"
      },
      "outputs": [],
      "source": [
        "#Data Cleaning: Two columns are identical, hence one has to be dropped\n",
        "df = df.drop(columns=[\"Facility_Type\"])\n",
        "df.info()"
      ]
    },
    {
      "cell_type": "markdown",
      "id": "94f28782-2d98-4de0-85b1-0549cdbec11a",
      "metadata": {
        "id": "94f28782-2d98-4de0-85b1-0549cdbec11a"
      },
      "source": [
        "**3. SUMMARY STAT**"
      ]
    },
    {
      "cell_type": "code",
      "execution_count": null,
      "id": "95e65a3d-84c3-41cd-bb90-9d79f4132308",
      "metadata": {
        "id": "95e65a3d-84c3-41cd-bb90-9d79f4132308"
      },
      "outputs": [],
      "source": [
        "#frequency distribution(Counts) of Error_types\n",
        "df[\"Error_Type\"].value_counts()"
      ]
    },
    {
      "cell_type": "code",
      "execution_count": null,
      "id": "bd8fc15d-f8aa-4782-90c3-bff52014d282",
      "metadata": {
        "id": "bd8fc15d-f8aa-4782-90c3-bff52014d282"
      },
      "outputs": [],
      "source": [
        "#percentage distribution of error types\n",
        "print(df[\"Error_Type\"].value_counts(normalize=True) * 100)\n"
      ]
    },
    {
      "cell_type": "code",
      "execution_count": null,
      "id": "b1ba0ad5-460b-4d0c-9941-10d34962cee4",
      "metadata": {
        "id": "b1ba0ad5-460b-4d0c-9941-10d34962cee4"
      },
      "outputs": [],
      "source": [
        "#frequency distribution(Counts) of Hospital_Facility_Type\n",
        "df[\"Hospital_Facility_Type\"].value_counts()"
      ]
    },
    {
      "cell_type": "code",
      "execution_count": null,
      "id": "d7ed07ef-61af-420e-88b9-6c4d47c3ab11",
      "metadata": {
        "id": "d7ed07ef-61af-420e-88b9-6c4d47c3ab11"
      },
      "outputs": [],
      "source": [
        "#percentage distribution of Hospital Facility types\n",
        "print(df[\"Hospital_Facility_Type\"].value_counts(normalize=True) * 100)"
      ]
    },
    {
      "cell_type": "code",
      "execution_count": null,
      "id": "62e55ec7-c94b-4fae-a09c-9d3ff1155280",
      "metadata": {
        "id": "62e55ec7-c94b-4fae-a09c-9d3ff1155280"
      },
      "outputs": [],
      "source": [
        "#Count and Percentage distribution of medical error by country\n",
        "\n",
        "Country_Distribution = (\n",
        "    df.groupby(\"Country\")\n",
        "    .size()\n",
        "    .reset_index(name=\"Count\")\n",
        ")\n",
        "\n",
        "Country_Distribution[\"Percentage\"] = (Country_Distribution[\"Count\"] / Country_Distribution[\"Count\"].sum()) * 100\n"
      ]
    },
    {
      "cell_type": "code",
      "execution_count": null,
      "id": "a5cefe61-c16b-4fa3-95d6-f77223010c6f",
      "metadata": {
        "id": "a5cefe61-c16b-4fa3-95d6-f77223010c6f"
      },
      "outputs": [],
      "source": [
        "Country_Distribution"
      ]
    },
    {
      "cell_type": "markdown",
      "id": "185268bb-9dd3-44e9-8152-8c412c512ea0",
      "metadata": {
        "id": "185268bb-9dd3-44e9-8152-8c412c512ea0"
      },
      "source": [
        "**4 . VISUALIZATION**\n"
      ]
    },
    {
      "cell_type": "code",
      "execution_count": null,
      "id": "beaa1d6b-320b-43cd-ae06-0fb4495b2558",
      "metadata": {
        "id": "beaa1d6b-320b-43cd-ae06-0fb4495b2558"
      },
      "outputs": [],
      "source": [
        "import seaborn as sns\n",
        "import matplotlib.pyplot as plt"
      ]
    },
    {
      "cell_type": "markdown",
      "id": "c414526e-d068-40be-b34d-1a9e7920e865",
      "metadata": {
        "id": "c414526e-d068-40be-b34d-1a9e7920e865"
      },
      "source": [
        "**3 Visualizations: Bar (errors by type), Heatmap (errors by state vs error type), Pie (error\n",
        "proportions).**\n"
      ]
    },
    {
      "cell_type": "code",
      "execution_count": null,
      "id": "1641a906-3118-4bcf-b9e7-e36d9797b4f5",
      "metadata": {
        "id": "1641a906-3118-4bcf-b9e7-e36d9797b4f5"
      },
      "outputs": [],
      "source": [
        "#Count of Error types\n",
        "Error_counts = df[\"Error_Type\"].value_counts()\n"
      ]
    },
    {
      "cell_type": "code",
      "execution_count": null,
      "id": "478413d4-3067-4c97-8f02-74a8b05eb056",
      "metadata": {
        "id": "478413d4-3067-4c97-8f02-74a8b05eb056"
      },
      "outputs": [],
      "source": [
        "Error_counts"
      ]
    },
    {
      "cell_type": "code",
      "execution_count": null,
      "id": "b5069f5a-38da-4835-a83f-687aa24b61a0",
      "metadata": {
        "id": "b5069f5a-38da-4835-a83f-687aa24b61a0"
      },
      "outputs": [],
      "source": [
        "#Horizontal bar chart of Error types\n",
        "Error_counts.plot(kind=\"barh\", color=\"skyblue\", figsize=(8,5))\n",
        "plt.xlabel(\"Number of Errors\")      # X-axis label\n",
        "plt.ylabel(\"Error Type\")            # Y-axis label\n",
        "plt.title(\"Distribution of Errors by Type\")  # Chart title\n",
        "\n"
      ]
    },
    {
      "cell_type": "code",
      "execution_count": null,
      "id": "c461c24b-2c57-43b1-ae85-9a5f795386dd",
      "metadata": {
        "id": "c461c24b-2c57-43b1-ae85-9a5f795386dd"
      },
      "outputs": [],
      "source": [
        "#We need to count errors for each State across the countries and Error_Type.\n",
        "\n",
        "Error_matrix = pd.crosstab(df[\"State\"], df[\"Error_Type\"])\n",
        "Error_matrix\n"
      ]
    },
    {
      "cell_type": "code",
      "execution_count": null,
      "id": "1e28e8ae-f6d3-48ad-8e15-ccf725e42797",
      "metadata": {
        "id": "1e28e8ae-f6d3-48ad-8e15-ccf725e42797"
      },
      "outputs": [],
      "source": [
        "#Plot the heatmap\n",
        "plt.figure(figsize=(10,6))\n",
        "\n",
        "sns.heatmap(Error_matrix, annot=True, fmt=\"d\", cmap=\"Blues\")\n",
        "\n",
        "plt.title(\"Errors by State vs Error Type\")\n",
        "plt.xlabel(\"Error Type\")\n",
        "plt.ylabel(\"State\")\n",
        "plt.show()\n"
      ]
    },
    {
      "cell_type": "code",
      "execution_count": null,
      "id": "52347627-8307-4157-a76d-25e2d7dd3957",
      "metadata": {
        "id": "52347627-8307-4157-a76d-25e2d7dd3957"
      },
      "outputs": [],
      "source": [
        "\n",
        "# Count error types\n",
        "Error_counts = df[\"Error_Type\"].value_counts()\n",
        "\n",
        "# Plot pie chart\n",
        "plt.figure(figsize=(6,6))\n",
        "plt.pie(\n",
        "    Error_counts,\n",
        "    labels=Error_counts.index,\n",
        "    autopct=\"%1.1f%%\",   # show percentages with 1 decimal\n",
        "    startangle=90        # rotate chart so first slice starts at the top\n",
        ")\n",
        "\n",
        "plt.title(\"Error_Type Proportions\")\n",
        "plt.show()"
      ]
    }
  ],
  "metadata": {
    "kernelspec": {
      "display_name": "Python 3 (ipykernel)",
      "language": "python",
      "name": "python3"
    },
    "language_info": {
      "codemirror_mode": {
        "name": "ipython",
        "version": 3
      },
      "file_extension": ".py",
      "mimetype": "text/x-python",
      "name": "python",
      "nbconvert_exporter": "python",
      "pygments_lexer": "ipython3",
      "version": "3.13.5"
    },
    "colab": {
      "provenance": []
    }
  },
  "nbformat": 4,
  "nbformat_minor": 5
}